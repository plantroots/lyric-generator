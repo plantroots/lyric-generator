{
  "nbformat": 4,
  "nbformat_minor": 0,
  "metadata": {
    "colab": {
      "name": "lyric_generator_beatles.ipynb",
      "provenance": [],
      "collapsed_sections": [],
      "machine_shape": "hm",
      "authorship_tag": "ABX9TyNN5lzf35QGSLTe9gVxt+lU",
      "include_colab_link": true
    },
    "kernelspec": {
      "name": "python3",
      "display_name": "Python 3"
    },
    "language_info": {
      "name": "python"
    },
    "accelerator": "GPU"
  },
  "cells": [
    {
      "cell_type": "markdown",
      "metadata": {
        "id": "view-in-github",
        "colab_type": "text"
      },
      "source": [
        "<a href=\"https://colab.research.google.com/github/plantroots/lyric-generator/blob/main/lyric_generator_beatles.ipynb\" target=\"_parent\"><img src=\"https://colab.research.google.com/assets/colab-badge.svg\" alt=\"Open In Colab\"/></a>"
      ]
    },
    {
      "cell_type": "code",
      "execution_count": null,
      "metadata": {
        "id": "fl_zskHJGdeU"
      },
      "outputs": [],
      "source": [
        "import tensorflow as tf\n",
        "import numpy as np\n",
        "import matplotlib.pyplot as plt\n",
        "import os\n",
        "\n",
        "from tensorflow.keras.models import Sequential\n",
        "from tensorflow.keras.layers import Embedding, LSTM, Dense, Bidirectional, BatchNormalization, Conv1D, GlobalMaxPooling1D, Dropout\n",
        "from tensorflow.keras.optimizers import Adam\n",
        "\n",
        "from tensorflow.keras.preprocessing.text import Tokenizer\n",
        "from tensorflow.keras.preprocessing.sequence import pad_sequences"
      ]
    },
    {
      "cell_type": "code",
      "source": [
        "corpus = []\n",
        "\n",
        "for f in os.listdir(\"/content/lyrics\"):\n",
        "  # if f == \"radiohead.txt\" or f == \"beatles.txt\" or f == \"nirvana.txt\":\n",
        "  if f == \"beatles.txt\":\n",
        "    data = open(f'/content/lyrics/{f}').read()\n",
        "    corpus += [line for line in data.lower().split(\"\\n\") if len(line) != 0]\n",
        "\n",
        "print(len(corpus))\n",
        "print(corpus[0])"
      ],
      "metadata": {
        "colab": {
          "base_uri": "https://localhost:8080/"
        },
        "id": "6IlNpdeMJjav",
        "outputId": "90184566-5e8c-465d-dcc2-a321d336a734"
      },
      "execution_count": null,
      "outputs": [
        {
          "output_type": "stream",
          "name": "stdout",
          "text": [
            "1846\n",
            "yesterday, all my troubles seemed so far away\n"
          ]
        }
      ]
    },
    {
      "cell_type": "code",
      "source": [
        "lengths = [len(i) for i in corpus]\n",
        "print(\"max_line: \" + str(max(lengths)))\n",
        "print(\"min_line: \" + str(min(lengths)))\n",
        "print(\"average_line: \" + str(round(sum(lengths) / len(lengths))))"
      ],
      "metadata": {
        "colab": {
          "base_uri": "https://localhost:8080/"
        },
        "id": "mSmYhe2IJjf_",
        "outputId": "e4a59bbf-a3e4-4f4d-c8e5-1020359446e2"
      },
      "execution_count": null,
      "outputs": [
        {
          "output_type": "stream",
          "name": "stdout",
          "text": [
            "max_line: 155\n",
            "min_line: 2\n",
            "average_line: 37\n"
          ]
        }
      ]
    },
    {
      "cell_type": "code",
      "source": [
        "tokenizer = Tokenizer()\n",
        "tokenizer.fit_on_texts(corpus)\n",
        "# We add 1 for the index `0` which is just the padding token.\n",
        "total_words = len(tokenizer.word_index) + 1\n",
        "\n",
        "# print(f'word index dictionary: {tokenizer.word_index}')\n",
        "print(f'total words: {total_words}')"
      ],
      "metadata": {
        "id": "1XYnqu8fMZgH"
      },
      "execution_count": null,
      "outputs": []
    },
    {
      "cell_type": "code",
      "source": [
        "# Initialize the sequences list\n",
        "input_sequences = []\n",
        "\n",
        "# Loop over every line\n",
        "for line in corpus:\n",
        "\n",
        "\t# Tokenize the current line\n",
        "\ttoken_list = tokenizer.texts_to_sequences([line])[0]\n",
        "\n",
        "\t# Loop over the line several times to generate the subphrases\n",
        "\tfor i in range(1, len(token_list)):\n",
        "\t\t\n",
        "\t\t# Generate the subphrase\n",
        "\t\tn_gram_sequence = token_list[:i+1]\n",
        "\n",
        "\t\t# Append the subphrase to the sequences list\n",
        "\t\tinput_sequences.append(n_gram_sequence)\n",
        "\n",
        "# Get the length of the longest line\n",
        "max_sequence_len = max([len(x) for x in input_sequences])\n",
        "\n",
        "# Pad all sequences\n",
        "input_sequences = np.array(pad_sequences(input_sequences, maxlen=max_sequence_len, padding='pre'))\n",
        "\n",
        "# Create inputs and label by splitting the last token in the subphrases\n",
        "xs, labels = input_sequences[:,:-1],input_sequences[:,-1]\n",
        "\n",
        "# Convert the label into one-hot arrays\n",
        "ys = tf.keras.utils.to_categorical(labels, num_classes=total_words)"
      ],
      "metadata": {
        "id": "83KFRqCkXmbQ"
      },
      "execution_count": null,
      "outputs": []
    },
    {
      "cell_type": "code",
      "source": [
        "# 100 epchos --> loss: 0.4438 - accuracy: 0.8570 (no validation in this case)\n",
        "# Total params: 2,764,579\n",
        "# Trainable params: 2,761,279\n",
        "# Non-trainable params: 3,300\n",
        "\n",
        "model = Sequential([\n",
        "          Embedding(total_words, 150, input_length=max_sequence_len-1),\n",
        "          BatchNormalization(),\n",
        "          Bidirectional(LSTM(150, return_sequences=True)),\n",
        "          BatchNormalization(),\n",
        "          Bidirectional(LSTM(100)),\n",
        "          BatchNormalization(),\n",
        "          Dense(1000, activation=\"relu\"),\n",
        "          BatchNormalization(),\n",
        "          Dropout(0.4),\n",
        "          Dense(total_words, activation='softmax')\n",
        "])\n",
        "\n",
        "model.compile(\n",
        "    loss='categorical_crossentropy', \n",
        "    optimizer=\"adam\", \n",
        "    metrics=['accuracy']\n",
        "    )\n",
        "\n",
        "model.summary()"
      ],
      "metadata": {
        "colab": {
          "base_uri": "https://localhost:8080/"
        },
        "id": "IW4HwTB6aSWA",
        "outputId": "be7339cc-e938-4602-a6d0-1a5a112dccc1"
      },
      "execution_count": null,
      "outputs": [
        {
          "output_type": "stream",
          "name": "stdout",
          "text": [
            "Model: \"sequential\"\n",
            "_________________________________________________________________\n",
            " Layer (type)                Output Shape              Param #   \n",
            "=================================================================\n",
            " embedding (Embedding)       (None, 33, 150)           244350    \n",
            "                                                                 \n",
            " batch_normalization (BatchN  (None, 33, 150)          600       \n",
            " ormalization)                                                   \n",
            "                                                                 \n",
            " bidirectional (Bidirectiona  (None, 33, 300)          361200    \n",
            " l)                                                              \n",
            "                                                                 \n",
            " batch_normalization_1 (Batc  (None, 33, 300)          1200      \n",
            " hNormalization)                                                 \n",
            "                                                                 \n",
            " bidirectional_1 (Bidirectio  (None, 200)              320800    \n",
            " nal)                                                            \n",
            "                                                                 \n",
            " batch_normalization_2 (Batc  (None, 200)              800       \n",
            " hNormalization)                                                 \n",
            "                                                                 \n",
            " dense (Dense)               (None, 1000)              201000    \n",
            "                                                                 \n",
            " batch_normalization_3 (Batc  (None, 1000)             4000      \n",
            " hNormalization)                                                 \n",
            "                                                                 \n",
            " dropout (Dropout)           (None, 1000)              0         \n",
            "                                                                 \n",
            " dense_1 (Dense)             (None, 1629)              1630629   \n",
            "                                                                 \n",
            "=================================================================\n",
            "Total params: 2,764,579\n",
            "Trainable params: 2,761,279\n",
            "Non-trainable params: 3,300\n",
            "_________________________________________________________________\n"
          ]
        }
      ]
    },
    {
      "cell_type": "code",
      "source": [
        "epochs = 100\n",
        "history = model.fit(xs, ys, epochs=epochs)"
      ],
      "metadata": {
        "id": "Hu3-anYtaZHj"
      },
      "execution_count": null,
      "outputs": []
    },
    {
      "cell_type": "code",
      "source": [
        "acc = history.history['accuracy']\n",
        "loss = history.history['loss']\n",
        "\n",
        "epochs = range(len(acc))\n",
        "\n",
        "plt.plot(epochs, acc, 'b', label='Training accuracy')\n",
        "plt.title('Training accuracy')\n",
        "\n",
        "plt.figure()\n",
        "\n",
        "plt.plot(epochs, loss, 'b', label='Training Loss')\n",
        "plt.title('Training loss')\n",
        "plt.legend()\n",
        "\n",
        "plt.show()"
      ],
      "metadata": {
        "colab": {
          "base_uri": "https://localhost:8080/",
          "height": 545
        },
        "id": "IvgcwoX1b9Ei",
        "outputId": "695fcb11-c03d-4d34-833d-c2932c01bcc2"
      },
      "execution_count": null,
      "outputs": [
        {
          "output_type": "display_data",
          "data": {
            "text/plain": [
              "<Figure size 432x288 with 1 Axes>"
            ],
            "image/png": "[encoded data removed]"
          },
          "metadata": {
            "needs_background": "light"
          }
        },
        {
          "output_type": "display_data",
          "data": {
            "text/plain": [
              "<Figure size 432x288 with 1 Axes>"
            ],
            "image/png": "[encoded data removed]"
          },
          "metadata": {
            "needs_background": "light"
          }
        }
      ]
    },
    {
      "cell_type": "code",
      "source": [
        "# from tensorflow.keras.models import load_model\n",
        "\n",
        "# model = load_model(\"/content/drive/MyDrive/Models/beatles_lyrics_generator/\")"
      ],
      "metadata": {
        "id": "d-t4M3dRf42A"
      },
      "execution_count": null,
      "outputs": []
    },
    {
      "cell_type": "code",
      "source": [
        "seeds = [\n",
        "         \"I don't know why\",\n",
        "         \"When she\",\n",
        "         \"After the\",\n",
        "         \"Beyond the\",\n",
        "         \"After\",\n",
        "         \"The rain\",\n",
        "         \"She has\",\n",
        "         \"Dog was\",\n",
        "         \"After she left\",\n",
        "         \"Grasshoppers and musicians\",\n",
        "         \"The sun is\",\n",
        "         \"Blue skyes and\",\n",
        "         \"When in doubt\",\n",
        "         \"Crying\"\n",
        "         ]\n",
        "\n",
        "next_words = 3\n",
        "print(\"words starting with . are added by the algorithm:\\n\")\n",
        "\n",
        "for seed in seeds:\n",
        "  for _ in range(next_words):\n",
        "    # Convert the text into sequences\n",
        "    token_list = tokenizer.texts_to_sequences([seed])[0]\n",
        "    # Pad the sequences\n",
        "    token_list = pad_sequences([token_list], maxlen=max_sequence_len-1, padding='pre')\n",
        "    # Get the probabilities of predicting a word\n",
        "    predicted = model.predict(token_list, verbose=0)\n",
        "    # Choose the next word based on the maximum probability\n",
        "    predicted = np.argmax(predicted, axis=-1).item()\n",
        "    # Get the actual word from the word index\n",
        "    output_word = tokenizer.index_word[predicted]\n",
        "    # Append to the current text\n",
        "    seed += \" .\" + output_word\n",
        "\n",
        "  print(seed)"
      ],
      "metadata": {
        "colab": {
          "base_uri": "https://localhost:8080/"
        },
        "id": "6ubnzKK9diQh",
        "outputId": "7166291e-3231-4a73-d71d-624a391f6e3a"
      },
      "execution_count": null,
      "outputs": [
        {
          "output_type": "stream",
          "name": "stdout",
          "text": [
            "words starting with . are added by the algorithm:\n",
            "\n",
            "I don't know why .you .say .goodbye\n",
            "When she .learns .we .are\n",
            "After the .news .was .such\n",
            "Beyond the .sun .is .up\n",
            "After .all .this .time\n",
            "The rain .with .a .wave\n",
            "She has .lost .her .'cause\n",
            "Dog was .twenty .carat .golden\n",
            "After she left .me .home .she\n",
            "Grasshoppers and musicians .i .will .sing\n",
            "The sun is .up .the .sky\n",
            "Blue skyes and .i .could .ask\n",
            "When in doubt .think .of .love\n",
            "Crying .for .the .day\n"
          ]
        }
      ]
    },
    {
      "cell_type": "code",
      "source": [
        "# from google.colab import drive\n",
        "# drive.mount('/content/drive')"
      ],
      "metadata": {
        "id": "aEwZj2q_fun9"
      },
      "execution_count": null,
      "outputs": []
    },
    {
      "cell_type": "code",
      "source": [
        "# model.save(\"/content/drive/MyDrive/Models/beatles_lyrics_generator/\")"
      ],
      "metadata": {
        "id": "zynFffjx6ri0"
      },
      "execution_count": null,
      "outputs": []
    }
  ]
}